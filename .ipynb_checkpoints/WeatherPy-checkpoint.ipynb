{
 "cells": [
  {
   "cell_type": "markdown",
   "metadata": {},
   "source": [
    "# WeatherPy\n",
    "----\n",
    "\n",
    "#### Note\n",
    "* Instructions have been included for each segment. You do not have to follow them exactly, but they are included to help you think through the steps."
   ]
  },
  {
   "cell_type": "code",
   "execution_count": 1,
   "metadata": {},
   "outputs": [],
   "source": [
    "# Dependencies and Setup\n",
    "import matplotlib.pyplot as plt\n",
    "import pandas as pd\n",
    "import numpy as np\n",
    "import csv\n",
    "import requests\n",
    "import time\n",
    "import json\n",
    "from scipy.stats import linregress\n",
    "# Import API key\n",
    "from api_keys import weather_api_key\n",
    "# Incorporated citipy to determine city based on latitude and longitude\n",
    "from citipy import citipy"
   ]
  },
  {
   "cell_type": "markdown",
   "metadata": {},
   "source": [
    "## Generate Cities List"
   ]
  },
  {
   "cell_type": "code",
   "execution_count": 2,
   "metadata": {},
   "outputs": [
    {
     "ename": "NameError",
     "evalue": "name 'lat_lng' is not defined",
     "output_type": "error",
     "traceback": [
      "\u001b[0;31m---------------------------------------------------------------------------\u001b[0m",
      "\u001b[0;31mNameError\u001b[0m                                 Traceback (most recent call last)",
      "\u001b[0;32m<ipython-input-2-0a488127dd7b>\u001b[0m in \u001b[0;36m<module>\u001b[0;34m\u001b[0m\n\u001b[1;32m     11\u001b[0m \u001b[0;31m# Get nearest city for random lat / long pair using citypy\u001b[0m\u001b[0;34m\u001b[0m\u001b[0;34m\u001b[0m\u001b[0;34m\u001b[0m\u001b[0m\n\u001b[1;32m     12\u001b[0m \u001b[0;32mfor\u001b[0m \u001b[0mlatLong\u001b[0m \u001b[0;32min\u001b[0m \u001b[0mlatsLongs\u001b[0m\u001b[0;34m:\u001b[0m\u001b[0;34m\u001b[0m\u001b[0;34m\u001b[0m\u001b[0m\n\u001b[0;32m---> 13\u001b[0;31m     \u001b[0mcity\u001b[0m \u001b[0;34m=\u001b[0m \u001b[0mcitipy\u001b[0m\u001b[0;34m.\u001b[0m\u001b[0mnearest_city\u001b[0m\u001b[0;34m(\u001b[0m\u001b[0mlat_lng\u001b[0m\u001b[0;34m[\u001b[0m\u001b[0;36m0\u001b[0m\u001b[0;34m]\u001b[0m\u001b[0;34m,\u001b[0m \u001b[0mlat_lng\u001b[0m\u001b[0;34m[\u001b[0m\u001b[0;36m1\u001b[0m\u001b[0;34m]\u001b[0m\u001b[0;34m)\u001b[0m\u001b[0;34m.\u001b[0m\u001b[0mcity_name\u001b[0m\u001b[0;34m\u001b[0m\u001b[0;34m\u001b[0m\u001b[0m\n\u001b[0m\u001b[1;32m     14\u001b[0m \u001b[0;34m\u001b[0m\u001b[0m\n\u001b[1;32m     15\u001b[0m     \u001b[0;31m# Append to list of unique cities if not there already\u001b[0m\u001b[0;34m\u001b[0m\u001b[0;34m\u001b[0m\u001b[0;34m\u001b[0m\u001b[0m\n",
      "\u001b[0;31mNameError\u001b[0m: name 'lat_lng' is not defined"
     ]
    }
   ],
   "source": [
    "#list for latitude and longitudes\n",
    "latsLongs = []\n",
    "cities = []\n",
    "\n",
    "# Create a set of random lat and lng combinations\n",
    "lats = np.random.uniform(low=-90.000, high=90.000, size=1500)\n",
    "lngs = np.random.uniform(low=-180.000, high=180.000, size=1500)\n",
    "# zip the two lists into a single one\n",
    "latsLongs = zip(lats, lngs)\n",
    "\n",
    "# Get nearest city for random lat / long pair using citypy\n",
    "for latLong in latsLongs:\n",
    "    city = citipy.nearest_city(latLong[0], latLong[1]).city_name\n",
    "    \n",
    "    # Append to list of unique cities if not there already\n",
    "    if city not in cities:\n",
    "        cities.append(city)\n",
    "\n",
    "len(cities)"
   ]
  },
  {
   "cell_type": "markdown",
   "metadata": {},
   "source": [
    "### Perform API Calls\n",
    "* Perform a weather check on each city using a series of successive API calls.\n",
    "* Include a print log of each city as it'sbeing processed (with the city number and city name).\n"
   ]
  },
  {
   "cell_type": "code",
   "execution_count": null,
   "metadata": {},
   "outputs": [],
   "source": [
    "# Save config information\n",
    "url = \"http://api.openweathermap.org/data/2.5/weather?\"\n",
    "weatherData = {}\n",
    "citiesWithWeatherData = []\n",
    "\n",
    "for city in cities:\n",
    "    # Build query URL\n",
    "    query_url = url + \"appid=\" + weather_api_key + \"&q=\" + city\n",
    "    fullWeatherResponse = requests.get(query_url)\n",
    "\n",
    "    #200 is a succesful query and we only add the city if it's new.\n",
    "    if fullWeatherResponse.status_code == 200 and city not in weatherData:\n",
    "        #get response in json format\n",
    "        fullWeatherResponseJson = fullWeatherResponse.json()\n",
    "        cityData = {}\n",
    "        cityData[\"city\"] = fullWeatherResponseJson[\"name\"]\n",
    "        cityData[\"id\"] = fullWeatherResponseJson[\"id\"]\n",
    "        cityData[\"cloudiness\"] = fullWeatherResponseJson['clouds']['all']\n",
    "        cityData[\"country\"] = fullWeatherResponseJson['sys']['country']\n",
    "        cityData[\"date\"] = fullWeatherResponseJson['dt']\n",
    "        cityData[\"humidity\"] = fullWeatherResponseJson['main']['humidity']\n",
    "        cityData[\"lat\"] = fullWeatherResponseJson['coord']['lat']\n",
    "        cityData[\"lng\"] = fullWeatherResponseJson['coord']['lon']\n",
    "        cityData[\"maxTemp\"] = fullWeatherResponseJson['main']['temp_max']\n",
    "        cityData[\"windSpeed\"] = fullWeatherResponseJson['wind']['speed']\n",
    "        #create new weather entry for this current city\n",
    "        weatherData[city] = cityData\n",
    "        #append to list of cities that have valid weather data entry\n",
    "        citiesWithWeatherData.append(city)\n",
    "        print(\"Found data for City {0} with id {1}\".format(fullWeatherResponseJson[\"name\"] , fullWeatherResponseJson[\"id\"]))\n"
   ]
  },
  {
   "cell_type": "markdown",
   "metadata": {},
   "source": [
    "### Convert Raw Data to DataFrame\n",
    "* Export the city data into a .csv.\n",
    "* Display the DataFrame"
   ]
  },
  {
   "cell_type": "code",
   "execution_count": null,
   "metadata": {},
   "outputs": [],
   "source": [
    "with open('CityData.csv', 'w', newline=\"\\n\") as csv_file:  \n",
    "    writer = csv.writer(csv_file)\n",
    "    #create list for column titles / header\n",
    "    header = []\n",
    "    #use keys of the city data as our column names\n",
    "    #gets keys of dictionary cityData\n",
    "    header = weatherData[citiesWithWeatherData[0]].keys()\n",
    "    #write first row header\n",
    "    writer.writerow(header)\n",
    "\n",
    "    for key, value in weatherData.items():\n",
    "        row = []\n",
    "        for weatherKey, weatherValue in value.items():\n",
    "            row.append(weatherValue)\n",
    "        writer.writerow(row)\n",
    "\n",
    "#create dataframe from csv file\n",
    "weatherDataFrame = pd.read_csv(\"CityData.csv\")\n",
    "#print dataframe\n",
    "weatherDataFrame.head()"
   ]
  },
  {
   "cell_type": "markdown",
   "metadata": {},
   "source": [
    "### Plotting the Data\n",
    "* Use proper labeling of the plots using plot titles (including date of analysis) and axes labels.\n",
    "* Save the plotted figures as .pngs."
   ]
  },
  {
   "cell_type": "markdown",
   "metadata": {},
   "source": [
    "#### Latitude vs. Temperature Plot"
   ]
  },
  {
   "cell_type": "code",
   "execution_count": null,
   "metadata": {},
   "outputs": [],
   "source": [
    "# Scatter plot\n",
    "plt.scatter(weatherDataFrame[\"lat\"],weatherDataFrame[\"maxTemp\"], marker=\"o\", edgecolor=\"black\")\n",
    "plt.title(\"City Latitude vs. Max Temp\")\n",
    "plt.xlabel(\"Latitude\")\n",
    "plt.ylabel(\"Max Temp (F)\")\n",
    "plt.grid(True)\n",
    "\n",
    "plt.savefig(\"LatVsTemp.png\")\n",
    "plt.show()"
   ]
  },
  {
   "cell_type": "markdown",
   "metadata": {},
   "source": [
    "#### Latitude vs. Humidity Plot"
   ]
  },
  {
   "cell_type": "code",
   "execution_count": null,
   "metadata": {},
   "outputs": [],
   "source": [
    "# Scatter plot\n",
    "plt.scatter(weatherDataFrame[\"lat\"],weatherDataFrame[\"humidity\"], marker=\"o\", alpha=0.75, edgecolor=\"black\")\n",
    "plt.title(\"City Latitude vs. Humidity\")\n",
    "plt.xlabel(\"Latitude\")\n",
    "plt.ylabel(\"Humidity (%)\")\n",
    "plt.grid(True)\n",
    "\n",
    "plt.savefig(\"LatVsHumid.png\")\n",
    "plt.show()"
   ]
  },
  {
   "cell_type": "markdown",
   "metadata": {},
   "source": [
    "#### Latitude vs. Cloudiness Plot"
   ]
  },
  {
   "cell_type": "code",
   "execution_count": null,
   "metadata": {},
   "outputs": [],
   "source": [
    "# Scatter plot\n",
    "plt.scatter(weatherDataFrame[\"lat\"],weatherDataFrame[\"cloudiness\"], marker=\"o\", alpha=0.75, edgecolor=\"black\")\n",
    "plt.title(\"City Latitude vs. Cloudiness\")\n",
    "plt.xlabel(\"Latitude\")\n",
    "plt.ylabel(\"Cloudiness\")\n",
    "plt.grid(True)\n",
    "\n",
    "plt.savefig(\"LatVsClds.png\")\n",
    "plt.show()"
   ]
  },
  {
   "cell_type": "markdown",
   "metadata": {},
   "source": [
    "#### Latitude vs. Wind Speed Plot"
   ]
  },
  {
   "cell_type": "code",
   "execution_count": null,
   "metadata": {},
   "outputs": [],
   "source": [
    "# Scatter plot\n",
    "plt.scatter(weatherDataFrame[\"lat\"],weatherDataFrame[\"windSpeed\"], marker=\"o\", alpha=0.75, edgecolor=\"black\")\n",
    "plt.title(\"City Latitude vs. Wind Speed\")\n",
    "plt.xlabel(\"Latitude\")\n",
    "plt.ylabel(\"Wind Speed (MPH)\")\n",
    "plt.ylim(0,25)\n",
    "plt.grid(True)\n",
    "\n",
    "plt.savefig(\"LatVsWindSpd.png\")\n",
    "plt.show()"
   ]
  },
  {
   "cell_type": "markdown",
   "metadata": {},
   "source": [
    "## Linear Regression"
   ]
  },
  {
   "cell_type": "code",
   "execution_count": null,
   "metadata": {},
   "outputs": [],
   "source": [
    "# OPTIONAL: Create a function to create Linear Regression plots\n",
    "def CreateLinearRegPlot(xVals,yVals,xAxisLabel, yAxisLabel, filename):\n",
    "    slope, intercept, rVal, pVal, stErr = linregress(xVals, yVals)\n",
    "    regressVals = xVals * slope + intercept\n",
    "    print(f\"The r-squared value is: {rVal}\")\n",
    "    lineEq = \"y = \" + str(round(slope,2)) + \"x + \" + str(round(intercept,2))\n",
    "    plt.scatter(xVals,yVals)\n",
    "    plt.plot(xVals,regressVals,\"r-\")\n",
    "    plt.annotate(lineEq,(6,10),fontsize=15,color=\"red\")\n",
    "    plt.xlabel(xAxisLabel)\n",
    "    plt.ylabel(yAxisLabel)\n",
    "    plt.show()\n",
    "    #save plot as png\n",
    "    plt.savefig(f\"output_data/{filename}.png\")"
   ]
  },
  {
   "cell_type": "code",
   "execution_count": null,
   "metadata": {},
   "outputs": [],
   "source": [
    "# Create Northern and Southern Hemisphere DataFrames\n",
    "northDf = weatherDataFrame.loc[weatherDataFrame[\"lat\"] >= 0.0]\n",
    "northDf.reset_index(inplace=True)\n",
    "\n",
    "southDf = weatherDataFrame.loc[weatherDataFrame[\"lat\"] < 0.0]\n",
    "southDf.reset_index(inplace=True)\n"
   ]
  },
  {
   "cell_type": "markdown",
   "metadata": {},
   "source": [
    "####  Northern Hemisphere - Max Temp vs. Latitude Linear Regression"
   ]
  },
  {
   "cell_type": "code",
   "execution_count": null,
   "metadata": {},
   "outputs": [],
   "source": [
    "CreateLinearRegPlot(northDf[\"lat\"], northDf[\"maxTemp\"], \"Latitude\", \"Max Temp\", \"FIG1\")"
   ]
  },
  {
   "cell_type": "markdown",
   "metadata": {},
   "source": [
    "####  Southern Hemisphere - Max Temp vs. Latitude Linear Regression"
   ]
  },
  {
   "cell_type": "code",
   "execution_count": null,
   "metadata": {},
   "outputs": [],
   "source": [
    "CreateLinearRegPlot(southDf[\"lat\"], southDf[\"maxTemp\"], \"Latitude\", \"Max Temp\", \"FIG2\")"
   ]
  },
  {
   "cell_type": "markdown",
   "metadata": {},
   "source": [
    "####  Northern Hemisphere - Humidity (%) vs. Latitude Linear Regression"
   ]
  },
  {
   "cell_type": "code",
   "execution_count": null,
   "metadata": {},
   "outputs": [],
   "source": [
    "CreateLinearRegPlot(northDf[\"lat\"], northDf[\"humidity\"], \"Latitude\", \"Humidity\", \"FIG3\")"
   ]
  },
  {
   "cell_type": "markdown",
   "metadata": {},
   "source": [
    "####  Southern Hemisphere - Humidity (%) vs. Latitude Linear Regression"
   ]
  },
  {
   "cell_type": "code",
   "execution_count": null,
   "metadata": {},
   "outputs": [],
   "source": [
    "CreateLinearRegPlot(southDf[\"lat\"], southDf[\"humidity\"], \"Latitude\", \"Humidity\", \"FIG4\")"
   ]
  },
  {
   "cell_type": "markdown",
   "metadata": {},
   "source": [
    "####  Northern Hemisphere - Cloudiness (%) vs. Latitude Linear Regression"
   ]
  },
  {
   "cell_type": "code",
   "execution_count": null,
   "metadata": {},
   "outputs": [],
   "source": [
    "CreateLinearRegPlot(northDf[\"lat\"], northDf[\"cloudiness\"], \"Latitude\", \"Cloudiness\", \"FIG5\")"
   ]
  },
  {
   "cell_type": "markdown",
   "metadata": {},
   "source": [
    "####  Southern Hemisphere - Cloudiness (%) vs. Latitude Linear Regression"
   ]
  },
  {
   "cell_type": "code",
   "execution_count": null,
   "metadata": {},
   "outputs": [],
   "source": [
    "CreateLinearRegPlot(southDf[\"lat\"], southDf[\"cloudiness\"], \"Latitude\", \"Cloudiness\", \"FIG6\")"
   ]
  },
  {
   "cell_type": "markdown",
   "metadata": {},
   "source": [
    "####  Northern Hemisphere - Wind Speed (mph) vs. Latitude Linear Regression"
   ]
  },
  {
   "cell_type": "code",
   "execution_count": null,
   "metadata": {},
   "outputs": [],
   "source": [
    "CreateLinearRegPlot(northDf[\"lat\"], northDf[\"windSpeed\"], \"Latitude\", \"Wind Speed\", \"FIG7\")"
   ]
  },
  {
   "cell_type": "markdown",
   "metadata": {},
   "source": [
    "####  Southern Hemisphere - Wind Speed (mph) vs. Latitude Linear Regression"
   ]
  },
  {
   "cell_type": "code",
   "execution_count": null,
   "metadata": {},
   "outputs": [],
   "source": [
    "CreateLinearRegPlot(southDf[\"lat\"], southDf[\"windSpeed\"], \"Latitude\", \"Wind Speed\", \"FIG8\")"
   ]
  },
  {
   "cell_type": "code",
   "execution_count": null,
   "metadata": {},
   "outputs": [],
   "source": []
  },
  {
   "cell_type": "code",
   "execution_count": null,
   "metadata": {},
   "outputs": [],
   "source": []
  },
  {
   "cell_type": "code",
   "execution_count": null,
   "metadata": {},
   "outputs": [],
   "source": []
  },
  {
   "cell_type": "code",
   "execution_count": null,
   "metadata": {},
   "outputs": [],
   "source": []
  },
  {
   "cell_type": "code",
   "execution_count": null,
   "metadata": {},
   "outputs": [],
   "source": []
  },
  {
   "cell_type": "code",
   "execution_count": null,
   "metadata": {},
   "outputs": [],
   "source": []
  }
 ],
 "metadata": {
  "anaconda-cloud": {},
  "kernel_info": {
   "name": "python3"
  },
  "kernelspec": {
   "display_name": "Python 3.7.4 64-bit ('anaconda3': virtualenv)",
   "language": "python",
   "name": "python37464bitanaconda3virtualenv34bfa2f894214834a3b7982b34bf8f4c"
  },
  "language_info": {
   "codemirror_mode": {
    "name": "ipython",
    "version": 3
   },
   "file_extension": ".py",
   "mimetype": "text/x-python",
   "name": "python",
   "nbconvert_exporter": "python",
   "pygments_lexer": "ipython3",
   "version": "3.7.4"
  },
  "latex_envs": {
   "LaTeX_envs_menu_present": true,
   "autoclose": false,
   "autocomplete": true,
   "bibliofile": "biblio.bib",
   "cite_by": "apalike",
   "current_citInitial": 1,
   "eqLabelWithNumbers": true,
   "eqNumInitial": 1,
   "hotkeys": {
    "equation": "Ctrl-E",
    "itemize": "Ctrl-I"
   },
   "labels_anchors": false,
   "latex_user_defs": false,
   "report_style_numbering": false,
   "user_envs_cfg": false
  },
  "nteract": {
   "version": "0.12.3"
  }
 },
 "nbformat": 4,
 "nbformat_minor": 2
}
